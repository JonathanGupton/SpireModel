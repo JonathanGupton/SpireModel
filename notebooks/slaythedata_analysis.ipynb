{
 "cells": [
  {
   "cell_type": "code",
   "id": "initial_id",
   "metadata": {
    "collapsed": true,
    "ExecuteTime": {
     "end_time": "2025-04-24T14:15:32.393562Z",
     "start_time": "2025-04-24T14:15:32.390564Z"
    }
   },
   "source": [
    "from pathlib import Path\n",
    "from collections import Counter\n",
    "import json"
   ],
   "outputs": [],
   "execution_count": 1
  },
  {
   "metadata": {
    "ExecuteTime": {
     "end_time": "2025-04-24T14:15:33.435358Z",
     "start_time": "2025-04-24T14:15:33.346543Z"
    }
   },
   "cell_type": "code",
   "source": [
    "log_dir = Path(r\"C:\\Users\\Jonathan Gupton\\SlayTheData\")\n",
    "logs = [f for f in log_dir.iterdir()]\n",
    "logs[0]"
   ],
   "id": "b624c7f6b0be5d8c",
   "outputs": [
    {
     "data": {
      "text/plain": [
       "WindowsPath('C:/Users/Jonathan Gupton/SlayTheData/2018-10-25-02-34#1352.json')"
      ]
     },
     "execution_count": 2,
     "metadata": {},
     "output_type": "execute_result"
    }
   ],
   "execution_count": 2
  },
  {
   "metadata": {
    "ExecuteTime": {
     "end_time": "2025-04-24T15:02:07.131197500Z",
     "start_time": "2025-04-24T15:01:38.401912Z"
    }
   },
   "cell_type": "code",
   "source": [
    "import json\n",
    "from multiprocessing import Pool, cpu_count\n",
    "from pathlib import Path\n",
    "\n",
    "def count_objects_in_file(file_path):\n",
    "    try:\n",
    "        with open(file_path, 'r') as f:\n",
    "            data = json.load(f)\n",
    "            return len(data)\n",
    "    except Exception:\n",
    "        return 0\n",
    "\n",
    "def main():\n",
    "    log_dir = Path(r'C:\\Users\\Jonathan Gupton\\SlayTheData')\n",
    "    # Assuming all json files have a .json extension; adjust if needed.\n",
    "    files = list(log_dir.rglob(\"*.json\"))\n",
    "\n",
    "    # Use all available cores\n",
    "    with Pool(processes=cpu_count()) as pool:\n",
    "        counts = pool.map(count_objects_in_file, files)\n",
    "\n",
    "    total_count = sum(counts)\n",
    "    print(f\"Total JSON objects: {total_count}\")\n",
    "\n",
    "if __name__ == \"__main__\":\n",
    "    main()"
   ],
   "id": "8749b7a67bba56c4",
   "outputs": [],
   "execution_count": null
  },
  {
   "metadata": {
    "ExecuteTime": {
     "end_time": "2025-04-24T13:30:51.698221Z",
     "start_time": "2025-04-24T13:30:51.693218Z"
    }
   },
   "cell_type": "code",
   "source": "len(l)",
   "id": "1bcab7cd0158b377",
   "outputs": [
    {
     "data": {
      "text/plain": [
       "1352"
      ]
     },
     "execution_count": 11,
     "metadata": {},
     "output_type": "execute_result"
    }
   ],
   "execution_count": 11
  },
  {
   "metadata": {
    "ExecuteTime": {
     "end_time": "2025-04-24T15:41:22.673107Z",
     "start_time": "2025-04-24T15:11:23.416437Z"
    }
   },
   "cell_type": "code",
   "source": [
    "import os\n",
    "import orjson\n",
    "from concurrent.futures import ThreadPoolExecutor, as_completed\n",
    "\n",
    "# Adjust this to your CPU / IO capacity\n",
    "MAX_WORKERS = 64\n",
    "\n",
    "def count_json_objects_in_file(file_path):\n",
    "    count = 0\n",
    "    with open(file_path, 'rb') as f:\n",
    "        obj = f.read()\n",
    "        try:\n",
    "            obj = orjson.loads(obj)  # Validate JSON object using orjson\n",
    "            count += len(obj)\n",
    "        except orjson.JSONDecodeError:\n",
    "            pass  # Handle or log malformed lines if needed\n",
    "    return file_path, count\n",
    "\n",
    "def process_all_files(directory):\n",
    "    file_paths = [os.path.join(directory, fname) for fname in os.listdir(directory) if fname.endswith('.json')]\n",
    "    results = {}\n",
    "    with ThreadPoolExecutor(max_workers=MAX_WORKERS) as executor:\n",
    "        future_to_file = {executor.submit(count_json_objects_in_file, path): path for path in file_paths}\n",
    "        for future in as_completed(future_to_file):\n",
    "            file_path, count = future.result()\n",
    "            results[file_path] = count\n",
    "    return results\n",
    "\n",
    "# Example usage\n",
    "if __name__ == \"__main__\":\n",
    "    log_dir = r'C:\\Users\\Jonathan Gupton\\SlayTheData'\n",
    "    counts = process_all_files(log_dir)\n",
    "    total_objects = sum(counts.values())\n",
    "    print(f\"Total JSON objects across all files: {total_objects}\")"
   ],
   "id": "a926c37168c37458",
   "outputs": [
    {
     "name": "stdout",
     "output_type": "stream",
     "text": [
      "Total JSON objects across all files: 68693423\n"
     ]
    }
   ],
   "execution_count": 1
  },
  {
   "metadata": {},
   "cell_type": "code",
   "outputs": [],
   "execution_count": null,
   "source": "",
   "id": "e58ef1a9dd999462"
  }
 ],
 "metadata": {
  "kernelspec": {
   "display_name": "Python 3",
   "language": "python",
   "name": "python3"
  },
  "language_info": {
   "codemirror_mode": {
    "name": "ipython",
    "version": 2
   },
   "file_extension": ".py",
   "mimetype": "text/x-python",
   "name": "python",
   "nbconvert_exporter": "python",
   "pygments_lexer": "ipython2",
   "version": "2.7.6"
  }
 },
 "nbformat": 4,
 "nbformat_minor": 5
}
