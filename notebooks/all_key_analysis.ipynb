{
 "cells": [
  {
   "cell_type": "code",
   "id": "initial_id",
   "metadata": {
    "collapsed": true,
    "ExecuteTime": {
     "end_time": "2025-04-28T20:28:07.776423Z",
     "start_time": "2025-04-28T20:28:07.773073Z"
    }
   },
   "source": "import pickle",
   "outputs": [],
   "execution_count": 1
  },
  {
   "metadata": {
    "ExecuteTime": {
     "end_time": "2025-04-28T20:28:24.565736Z",
     "start_time": "2025-04-28T20:28:24.561888Z"
    }
   },
   "cell_type": "code",
   "source": [
    "with open(r\"../data/all_keys_dump_multiprocessing.pkl\", \"rb\") as f:\n",
    "    data = pickle.load(f)"
   ],
   "id": "fb7978a3d57a1f83",
   "outputs": [],
   "execution_count": 2
  },
  {
   "metadata": {
    "ExecuteTime": {
     "end_time": "2025-04-28T20:33:09.767036Z",
     "start_time": "2025-04-28T20:33:09.764035Z"
    }
   },
   "cell_type": "code",
   "source": [
    "for k, v in data['all_key_counts'].items():\n",
    "    print(k, v, sep=\"\\t\\t\\t\")"
   ],
   "id": "2321b1b878701c50",
   "outputs": [
    {
     "name": "stdout",
     "output_type": "stream",
     "text": [
      "gold_per_floor\t\t\t68593271\n",
      "floor_reached\t\t\t68593271\n",
      "playtime\t\t\t68593271\n",
      "items_purged\t\t\t68593271\n",
      "score\t\t\t68593271\n",
      "play_id\t\t\t68593271\n",
      "local_time\t\t\t68593271\n",
      "is_ascension_mode\t\t\t68593271\n",
      "campfire_choices\t\t\t68593271\n",
      "neow_cost\t\t\t68574810\n",
      "seed_source_timestamp\t\t\t68593271\n",
      "circlet_count\t\t\t68588768\n",
      "master_deck\t\t\t68593271\n",
      "relics\t\t\t68593271\n",
      "potions_floor_usage\t\t\t68593271\n",
      "damage_taken\t\t\t68593271\n",
      "seed_played\t\t\t68593271\n",
      "potions_obtained\t\t\t68593271\n",
      "is_trial\t\t\t68593271\n",
      "path_per_floor\t\t\t68593271\n",
      "character_chosen\t\t\t68593271\n",
      "items_purchased\t\t\t68593270\n",
      "campfire_rested\t\t\t68593271\n",
      "item_purchase_floors\t\t\t68593271\n",
      "current_hp_per_floor\t\t\t68593271\n",
      "gold\t\t\t68593271\n",
      "neow_bonus\t\t\t68574811\n",
      "is_prod\t\t\t68593271\n",
      "is_daily\t\t\t68593271\n",
      "chose_seed\t\t\t68593271\n",
      "campfire_upgraded\t\t\t68593271\n",
      "win_rate\t\t\t68593271\n",
      "timestamp\t\t\t68593271\n",
      "path_taken\t\t\t68593271\n",
      "build_version\t\t\t68593271\n",
      "purchased_purges\t\t\t68593271\n",
      "victory\t\t\t68593271\n",
      "max_hp_per_floor\t\t\t68593271\n",
      "card_choices\t\t\t68593271\n",
      "player_experience\t\t\t68593271\n",
      "relics_obtained\t\t\t68593271\n",
      "event_choices\t\t\t68593271\n",
      "is_beta\t\t\t68519006\n",
      "boss_relics\t\t\t68593271\n",
      "items_purged_floors\t\t\t68593271\n",
      "is_endless\t\t\t68593271\n",
      "potions_floor_spawned\t\t\t68593271\n",
      "ascension_level\t\t\t68593271\n",
      "special_seed\t\t\t16439762\n",
      "killed_by\t\t\t55984474\n",
      "daily_mods\t\t\t13\n",
      "neow_cos3\t\t\t1\n"
     ]
    }
   ],
   "execution_count": 6
  },
  {
   "metadata": {},
   "cell_type": "code",
   "outputs": [],
   "execution_count": null,
   "source": "",
   "id": "f2450bfcb9dccbc8"
  },
  {
   "metadata": {},
   "cell_type": "code",
   "outputs": [],
   "execution_count": null,
   "source": "",
   "id": "bc5fc48aaa6d865f"
  },
  {
   "metadata": {},
   "cell_type": "code",
   "outputs": [],
   "execution_count": null,
   "source": "",
   "id": "87907381068bb28"
  },
  {
   "metadata": {},
   "cell_type": "code",
   "outputs": [],
   "execution_count": null,
   "source": "",
   "id": "57229885181b9276"
  },
  {
   "metadata": {},
   "cell_type": "code",
   "outputs": [],
   "execution_count": null,
   "source": "",
   "id": "1d79260e92a90f9"
  }
 ],
 "metadata": {
  "kernelspec": {
   "display_name": "Python 3",
   "language": "python",
   "name": "python3"
  },
  "language_info": {
   "codemirror_mode": {
    "name": "ipython",
    "version": 2
   },
   "file_extension": ".py",
   "mimetype": "text/x-python",
   "name": "python",
   "nbconvert_exporter": "python",
   "pygments_lexer": "ipython2",
   "version": "2.7.6"
  }
 },
 "nbformat": 4,
 "nbformat_minor": 5
}
