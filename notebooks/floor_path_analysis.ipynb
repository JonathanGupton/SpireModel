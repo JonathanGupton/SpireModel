{
 "cells": [
  {
   "cell_type": "code",
   "id": "initial_id",
   "metadata": {
    "collapsed": true,
    "ExecuteTime": {
     "end_time": "2025-04-28T11:52:12.260084Z",
     "start_time": "2025-04-28T11:52:12.257256Z"
    }
   },
   "source": [
    "from collections import Counter\n",
    "from itertools import islice\n",
    "import pickle\n"
   ],
   "outputs": [],
   "execution_count": 3
  },
  {
   "metadata": {},
   "cell_type": "code",
   "outputs": [],
   "execution_count": null,
   "source": [
    "with open(r\"../floor_paths.pkl\", \"rb\") as f:\n",
    "    data = pickle.load(f)"
   ],
   "id": "3e99c8046e549838"
  },
  {
   "metadata": {
    "ExecuteTime": {
     "end_time": "2025-04-28T11:51:04.571355Z",
     "start_time": "2025-04-28T11:51:04.567178Z"
    }
   },
   "cell_type": "code",
   "source": "type(data)",
   "id": "12954c0edac67abd",
   "outputs": [
    {
     "data": {
      "text/plain": [
       "collections.Counter"
      ]
     },
     "execution_count": 2,
     "metadata": {},
     "output_type": "execute_result"
    }
   ],
   "execution_count": 2
  },
  {
   "metadata": {
    "ExecuteTime": {
     "end_time": "2025-04-28T12:12:42.375885Z",
     "start_time": "2025-04-28T12:12:42.372879Z"
    }
   },
   "cell_type": "code",
   "source": [
    "for k, v in islice(data.items(), 10):\n",
    "    print(k, v, sep=\"\\t\")"
   ],
   "id": "7190f09f598e4642",
   "outputs": [
    {
     "name": "stdout",
     "output_type": "stream",
     "text": [
      "()\t5024008\n",
      "('M', 'M', '$', 'M', 'M', 'R', 'M', '?', 'T', 'R', '?', 'M', 'R', 'M', 'R', 'B', None, 'M', '?', '?', 'M', 'M', 'R', 'M', '$', 'T', 'M')\t1\n",
      "('M', 'M', '?', 'M', '?', 'E', '$', 'R', 'T', '?', 'M', 'E', 'M', 'E', 'R', 'B', None, 'M', '?', 'M', 'M', 'M', 'E', 'M', 'E', 'T', 'E', 'M', '?', 'M', '?', 'R', 'B', None, 'M', '?', 'M', '$', '?', 'E', 'R', 'E', 'T', 'E', 'M', 'M', '?', 'E', 'R', 'B')\t1\n",
      "('M', '?', '?', 'M', '?', 'E', 'M', '$', 'T', 'R', '$', 'M', 'T', '?', 'R')\t1\n",
      "('M', 'M', 'M', 'M', 'M', 'R', '$', 'R', 'T', '?', 'M', 'M', 'R', 'E', 'R')\t2\n",
      "('M', '?', '?', '?', 'M', 'R', 'M', 'M', 'T', 'R', 'M', 'R', 'M', 'M', 'R')\t7\n",
      "('M', '?', '$', 'T', 'M', 'E', 'M', 'R', 'T', 'M', 'R', 'E', '$', '?', 'R', 'B', None, 'M', '?', '?', 'M', '?', 'R', 'M', 'R', 'T', '?', 'M', '$', 'R', 'T', 'R')\t1\n",
      "('M', 'M', '$', '?', 'M', 'R', 'M', 'R', 'T', '?', '$', 'M', 'M', 'M', 'R')\t2\n",
      "('M', 'M', '?', 'M', 'M', 'E', 'R', 'E', 'T', 'R', 'M', 'E', '?', '$', 'R', 'B', None, 'M', '?', '$', 'M', 'M', 'R', 'E', 'R', 'T', '$', 'R', 'M', 'M', '?', 'R')\t1\n",
      "('M', 'M', 'M', '?', '?', 'R', 'E', '$', 'T', 'R', '?', 'M', 'M', 'M', 'R', 'B', None, 'M', '?', 'M', '$', 'T', '?', '?', 'M', 'T', 'E', 'R', '$')\t1\n"
     ]
    }
   ],
   "execution_count": 6
  }
 ],
 "metadata": {
  "kernelspec": {
   "display_name": "Python 3",
   "language": "python",
   "name": "python3"
  },
  "language_info": {
   "codemirror_mode": {
    "name": "ipython",
    "version": 2
   },
   "file_extension": ".py",
   "mimetype": "text/x-python",
   "name": "python",
   "nbconvert_exporter": "python",
   "pygments_lexer": "ipython2",
   "version": "2.7.6"
  }
 },
 "nbformat": 4,
 "nbformat_minor": 5
}
